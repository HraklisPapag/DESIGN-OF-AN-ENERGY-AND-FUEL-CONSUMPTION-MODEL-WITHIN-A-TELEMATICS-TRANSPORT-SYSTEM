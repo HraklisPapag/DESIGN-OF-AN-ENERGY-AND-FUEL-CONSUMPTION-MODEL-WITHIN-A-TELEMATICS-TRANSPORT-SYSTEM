{
 "cells": [
  {
   "cell_type": "markdown",
   "metadata": {},
   "source": [
    "# Kinetic and Fuel Consumption Model\n",
    "\n",
    "Author: Hraklis Papageorgiou</br>\n",
    "University of the Witwatersrand</br>\n",
    "Student: 2137492"
   ]
  },
  {
   "cell_type": "markdown",
   "metadata": {},
   "source": [
    "#### Reference\n",
    "Parts of this code is from and adapted from the research paper mentioned below.</br>\n",
    "C. Hull, J. Giliomee, K. A. Collett, M. D. M. and M. Booysen, “Using high resolution GPS data to plan the electrification of paratransit: A case study in South Africa,” SSRN Electronic Journal, 2022. </br>\n",
    "Available here:</br>\n",
    "https://papers.ssrn.com/sol3/papers.cfm?abstract_id=4149228</br>\n",
    "Github:</br>\n",
    "https://github.com/ChullEPG/Bumpy-Ride</br>\n",
    "Data:</br>\n",
    "https://doi.org/10.17632/xt69cnwh56.1\n"
   ]
  },
  {
   "cell_type": "markdown",
   "metadata": {},
   "source": [
    "### Packages"
   ]
  },
  {
   "cell_type": "code",
   "execution_count": 911,
   "metadata": {},
   "outputs": [],
   "source": [
    "import pandas as pd\n",
    "import os\n",
    "import numpy as np\n",
    "from numpy import inf\n",
    "import datetime\n",
    "from datetime import datetime, timedelta\n",
    "from functools import total_ordering\n",
    "import descartes\n",
    "import geopandas as gpd\n",
    "import geopy.distance\n",
    "from pathlib import Path"
   ]
  },
  {
   "cell_type": "markdown",
   "metadata": {},
   "source": [
    "### Constants"
   ]
  },
  {
   "cell_type": "code",
   "execution_count": 912,
   "metadata": {},
   "outputs": [],
   "source": [
    "GRAVITY = 9.80665 # m/s^2\n",
    "R = 287.05 # J/(kg*K)\n",
    "KELVIN = 273.15\n",
    "RHO_CONST = 1.184\n",
    "\n",
    "# Rolling resistance:\n",
    "# Assuming pneumatic tyre on a tarmacadam (tarmac) surface\n",
    "# Car\n",
    "C_RR_CAR = 0.0225\n",
    "# Truck\n",
    "C_RR_TRUCK = 0.01\n",
    "\n",
    "# Powertrain efficiency\n",
    "\n",
    "PE_PETROL = 0.202 # Estimated Powertrain efficiency of a petrol vehicle\n",
    "PE_DIESEL = 0.228 # Estimated Powertrain efficiency of a petrol vehicle\n",
    "PE_EV = 0.83 # Estimated Powertrain efficiency of an electric vehicle\n",
    "\n",
    "# Regenerative Braking \n",
    "\n",
    "RGN_EV = 0.65\n",
    "RGN_NGV = 0\n",
    "\n",
    "\n",
    "# Idle Energy \n",
    "P0 = 100\n",
    "\n"
   ]
  },
  {
   "cell_type": "markdown",
   "metadata": {},
   "source": [
    "# Kinetic Model\n",
    "### Vehcile Parameters\n",
    "csv containing mass, drag coeff and surface area of vehicles by make and model"
   ]
  },
  {
   "cell_type": "code",
   "execution_count": 913,
   "metadata": {},
   "outputs": [
    {
     "data": {
      "text/html": [
       "<div>\n",
       "<style scoped>\n",
       "    .dataframe tbody tr th:only-of-type {\n",
       "        vertical-align: middle;\n",
       "    }\n",
       "\n",
       "    .dataframe tbody tr th {\n",
       "        vertical-align: top;\n",
       "    }\n",
       "\n",
       "    .dataframe thead th {\n",
       "        text-align: right;\n",
       "    }\n",
       "</style>\n",
       "<table border=\"1\" class=\"dataframe\">\n",
       "  <thead>\n",
       "    <tr style=\"text-align: right;\">\n",
       "      <th></th>\n",
       "      <th>Make</th>\n",
       "      <th>Model</th>\n",
       "      <th>Curb Mass (kg)</th>\n",
       "      <th>Drag Coefficient (C_d)</th>\n",
       "      <th>Frontal Surface Area (m2)</th>\n",
       "      <th>Displacement (cc)</th>\n",
       "      <th>Fuel Type</th>\n",
       "      <th>RPM at Max Torque (rpm)</th>\n",
       "    </tr>\n",
       "  </thead>\n",
       "  <tbody>\n",
       "    <tr>\n",
       "      <th>0</th>\n",
       "      <td>VW</td>\n",
       "      <td>Golf GTI</td>\n",
       "      <td>1644.272</td>\n",
       "      <td>0.355</td>\n",
       "      <td>1.910</td>\n",
       "      <td>1798</td>\n",
       "      <td>Petrol</td>\n",
       "      <td>2000</td>\n",
       "    </tr>\n",
       "    <tr>\n",
       "      <th>1</th>\n",
       "      <td>Toyota</td>\n",
       "      <td>HiAce</td>\n",
       "      <td>1800.000</td>\n",
       "      <td>0.360</td>\n",
       "      <td>3.591</td>\n",
       "      <td>2494</td>\n",
       "      <td>Diesel</td>\n",
       "      <td>2000</td>\n",
       "    </tr>\n",
       "    <tr>\n",
       "      <th>2</th>\n",
       "      <td>Honda</td>\n",
       "      <td>Accord</td>\n",
       "      <td>1635.000</td>\n",
       "      <td>0.320</td>\n",
       "      <td>2.147</td>\n",
       "      <td>3471</td>\n",
       "      <td>Petrol</td>\n",
       "      <td>4500</td>\n",
       "    </tr>\n",
       "    <tr>\n",
       "      <th>3</th>\n",
       "      <td>Honda</td>\n",
       "      <td>Civic 1.2</td>\n",
       "      <td>1530.874</td>\n",
       "      <td>0.380</td>\n",
       "      <td>1.720</td>\n",
       "      <td>1799</td>\n",
       "      <td>Petrol</td>\n",
       "      <td>4250</td>\n",
       "    </tr>\n",
       "    <tr>\n",
       "      <th>4</th>\n",
       "      <td>Audi</td>\n",
       "      <td>A3</td>\n",
       "      <td>1644.272</td>\n",
       "      <td>0.310</td>\n",
       "      <td>2.080</td>\n",
       "      <td>1395</td>\n",
       "      <td>Petrol</td>\n",
       "      <td>2000</td>\n",
       "    </tr>\n",
       "    <tr>\n",
       "      <th>5</th>\n",
       "      <td>Toyota</td>\n",
       "      <td>Carolla</td>\n",
       "      <td>1530.874</td>\n",
       "      <td>0.290</td>\n",
       "      <td>2.090</td>\n",
       "      <td>1794</td>\n",
       "      <td>Petrol</td>\n",
       "      <td>6750</td>\n",
       "    </tr>\n",
       "  </tbody>\n",
       "</table>\n",
       "</div>"
      ],
      "text/plain": [
       "     Make      Model  Curb Mass (kg)  Drag Coefficient (C_d)  \\\n",
       "0      VW   Golf GTI        1644.272                   0.355   \n",
       "1  Toyota      HiAce        1800.000                   0.360   \n",
       "2   Honda     Accord        1635.000                   0.320   \n",
       "3   Honda  Civic 1.2        1530.874                   0.380   \n",
       "4    Audi         A3        1644.272                   0.310   \n",
       "5  Toyota    Carolla        1530.874                   0.290   \n",
       "\n",
       "   Frontal Surface Area (m2)  Displacement (cc) Fuel Type  \\\n",
       "0                      1.910               1798    Petrol   \n",
       "1                      3.591               2494    Diesel   \n",
       "2                      2.147               3471    Petrol   \n",
       "3                      1.720               1799    Petrol   \n",
       "4                      2.080               1395    Petrol   \n",
       "5                      2.090               1794    Petrol   \n",
       "\n",
       "   RPM at Max Torque (rpm)  \n",
       "0                     2000  \n",
       "1                     2000  \n",
       "2                     4500  \n",
       "3                     4250  \n",
       "4                     2000  \n",
       "5                     6750  "
      ]
     },
     "execution_count": 913,
     "metadata": {},
     "output_type": "execute_result"
    }
   ],
   "source": [
    "vehicle_params = pd.read_csv('Vehicles_Constants.csv')\n",
    "vehicle_params.head(6)"
   ]
  },
  {
   "cell_type": "markdown",
   "metadata": {},
   "source": [
    "### Average Vehicle\n",
    "csv with average mass and drag coeff by vehicle type. </br>\n",
    "For vehicles that are not available in the data</br>\n",
    "Frontal surface area can be obtained from a vehicle's heigth and width, (must be provided)"
   ]
  },
  {
   "cell_type": "code",
   "execution_count": 914,
   "metadata": {},
   "outputs": [
    {
     "data": {
      "text/html": [
       "<div>\n",
       "<style scoped>\n",
       "    .dataframe tbody tr th:only-of-type {\n",
       "        vertical-align: middle;\n",
       "    }\n",
       "\n",
       "    .dataframe tbody tr th {\n",
       "        vertical-align: top;\n",
       "    }\n",
       "\n",
       "    .dataframe thead th {\n",
       "        text-align: right;\n",
       "    }\n",
       "</style>\n",
       "<table border=\"1\" class=\"dataframe\">\n",
       "  <thead>\n",
       "    <tr style=\"text-align: right;\">\n",
       "      <th></th>\n",
       "      <th>Type</th>\n",
       "      <th>Curb Mass (kg)</th>\n",
       "      <th>Drag Coefficient (C_d)</th>\n",
       "      <th>Frontal Surface Area (m2)</th>\n",
       "      <th>Displacement (cc)</th>\n",
       "    </tr>\n",
       "  </thead>\n",
       "  <tbody>\n",
       "    <tr>\n",
       "      <th>0</th>\n",
       "      <td>Saloon</td>\n",
       "      <td>1500</td>\n",
       "      <td>0.310</td>\n",
       "      <td>2.2600</td>\n",
       "      <td>2000</td>\n",
       "    </tr>\n",
       "    <tr>\n",
       "      <th>1</th>\n",
       "      <td>Sports</td>\n",
       "      <td>1500</td>\n",
       "      <td>0.340</td>\n",
       "      <td>1.8593</td>\n",
       "      <td>3000</td>\n",
       "    </tr>\n",
       "    <tr>\n",
       "      <th>2</th>\n",
       "      <td>Light Van</td>\n",
       "      <td>2000</td>\n",
       "      <td>0.425</td>\n",
       "      <td>3.2300</td>\n",
       "      <td>3000</td>\n",
       "    </tr>\n",
       "    <tr>\n",
       "      <th>3</th>\n",
       "      <td>Bus</td>\n",
       "      <td>12000</td>\n",
       "      <td>0.600</td>\n",
       "      <td>8.2580</td>\n",
       "      <td>5000</td>\n",
       "    </tr>\n",
       "    <tr>\n",
       "      <th>4</th>\n",
       "      <td>Articulated truck</td>\n",
       "      <td>13000</td>\n",
       "      <td>0.675</td>\n",
       "      <td>8.5000</td>\n",
       "      <td>5300</td>\n",
       "    </tr>\n",
       "  </tbody>\n",
       "</table>\n",
       "</div>"
      ],
      "text/plain": [
       "                Type  Curb Mass (kg)  Drag Coefficient (C_d)  \\\n",
       "0             Saloon            1500                   0.310   \n",
       "1             Sports            1500                   0.340   \n",
       "2          Light Van            2000                   0.425   \n",
       "3                Bus           12000                   0.600   \n",
       "4  Articulated truck           13000                   0.675   \n",
       "\n",
       "   Frontal Surface Area (m2)  Displacement (cc)  \n",
       "0                     2.2600               2000  \n",
       "1                     1.8593               3000  \n",
       "2                     3.2300               3000  \n",
       "3                     8.2580               5000  \n",
       "4                     8.5000               5300  "
      ]
     },
     "execution_count": 914,
     "metadata": {},
     "output_type": "execute_result"
    }
   ],
   "source": [
    "vehicle_avgs = pd.read_csv('vehicle_Averages.csv')\n",
    "vehicle_avgs.head()"
   ]
  },
  {
   "cell_type": "code",
   "execution_count": 915,
   "metadata": {},
   "outputs": [],
   "source": [
    "# Return crub mass, c_d and frontal area from make and model of a vehicle\n",
    "def get_vehicle(make, model):\n",
    "    vehicle_params = pd.read_csv('Vehicles_Constants.csv')\n",
    "    try:\n",
    "        mass_p = vehicle_params.loc[(vehicle_params['Make'] == make) & (vehicle_params['Model'] == model), 'Curb Mass (kg)'].iloc[0]\n",
    "        cd_p = vehicle_params.loc[(vehicle_params['Make'] == make) & (vehicle_params['Model'] == model), 'Drag Coefficient (C_d)'].iloc[0]\n",
    "        area_p = vehicle_params.loc[(vehicle_params['Make'] == make) & (vehicle_params['Model'] == model), 'Frontal Surface Area (m2)'].iloc[0]\n",
    "        w_max_p = vehicle_params.loc[(vehicle_params['Make'] == make) & (vehicle_params['Model'] == model), 'RPM at Max Torque (rpm)'].iloc[0]\n",
    "        d_p = vehicle_params.loc[(vehicle_params['Make'] == make) & (vehicle_params['Model'] == model), 'Displacement (cc)'].iloc[0]\n",
    "        fuel_p = vehicle_params.loc[(vehicle_params['Make'] == make) & (vehicle_params['Model'] == model), 'Fuel Type'].iloc[0]\n",
    "    except:\n",
    "        print('Error: Vehicle not found')\n",
    "        return -1, -1, -1, -1, -1, -1\n",
    "    \n",
    "    return mass_p, cd_p, area_p, w_max_p, d_p, fuel_p"
   ]
  },
  {
   "cell_type": "code",
   "execution_count": 916,
   "metadata": {},
   "outputs": [
    {
     "name": "stdout",
     "output_type": "stream",
     "text": [
      "1644.272\n",
      "0.355\n",
      "1.91\n",
      "2000\n",
      "1798\n",
      "Petrol\n"
     ]
    }
   ],
   "source": [
    "mass, cd, area, w_max, d, fuel = get_vehicle('VW', 'Golf GTI')\n",
    "\n",
    "print(mass)\n",
    "print(cd)\n",
    "print(area)\n",
    "print(w_max)\n",
    "print(d)\n",
    "print(fuel)"
   ]
  },
  {
   "cell_type": "markdown",
   "metadata": {},
   "source": [
    "### File Read"
   ]
  },
  {
   "cell_type": "code",
   "execution_count": 917,
   "metadata": {},
   "outputs": [],
   "source": [
    "def read_file(filename):\n",
    "    journey = pd.read_csv(filename)\n",
    "    return journey"
   ]
  },
  {
   "cell_type": "code",
   "execution_count": 918,
   "metadata": {},
   "outputs": [
    {
     "data": {
      "text/html": [
       "<div>\n",
       "<style scoped>\n",
       "    .dataframe tbody tr th:only-of-type {\n",
       "        vertical-align: middle;\n",
       "    }\n",
       "\n",
       "    .dataframe tbody tr th {\n",
       "        vertical-align: top;\n",
       "    }\n",
       "\n",
       "    .dataframe thead th {\n",
       "        text-align: right;\n",
       "    }\n",
       "</style>\n",
       "<table border=\"1\" class=\"dataframe\">\n",
       "  <thead>\n",
       "    <tr style=\"text-align: right;\">\n",
       "      <th></th>\n",
       "      <th>Date</th>\n",
       "      <th>Time</th>\n",
       "      <th>Latitude</th>\n",
       "      <th>Longitude</th>\n",
       "      <th>Altitude</th>\n",
       "      <th>Speed</th>\n",
       "    </tr>\n",
       "  </thead>\n",
       "  <tbody>\n",
       "    <tr>\n",
       "      <th>0</th>\n",
       "      <td>12/04/2022</td>\n",
       "      <td>07:20:20</td>\n",
       "      <td>-33.89134</td>\n",
       "      <td>18.95951</td>\n",
       "      <td>235.9</td>\n",
       "      <td>1.09</td>\n",
       "    </tr>\n",
       "  </tbody>\n",
       "</table>\n",
       "</div>"
      ],
      "text/plain": [
       "         Date      Time  Latitude  Longitude  Altitude  Speed\n",
       "0  12/04/2022  07:20:20 -33.89134   18.95951     235.9   1.09"
      ]
     },
     "execution_count": 918,
     "metadata": {},
     "output_type": "execute_result"
    }
   ],
   "source": [
    "filename = 'Example Input.csv'\n",
    "\n",
    "journey = read_file(filename)\n",
    "journey.head(1)"
   ]
  },
  {
   "cell_type": "markdown",
   "metadata": {},
   "source": [
    "### File Cleaning\n",
    "• Combine Date and Time </br>\n",
    "• remove Duplicate data for the same time instance</br>\n",
    "• Convert speed to velocity in m/s</br>\n",
    "• Combine coordinatees for geopandas"
   ]
  },
  {
   "cell_type": "code",
   "execution_count": 919,
   "metadata": {},
   "outputs": [],
   "source": [
    "def clean_data():\n",
    "    # join date & time\n",
    "    # Better to do this incase trip is over multiple days, such as over midnight\n",
    "    journey['DateTime'] = pd.to_datetime(journey['Date'] + journey['Time'], format = '%m/%d/%Y%H:%M:%S')\n",
    "\n",
    "    # Remove duplicate time samples\n",
    "    journey.drop_duplicates(subset=['DateTime'], keep=\"last\", inplace=True)\n",
    "\n",
    "     # Convert from km/h to m/s \n",
    "    journey['Velocity'] = np.where(journey['Speed'] >= 0.5, journey['Speed']/3.6, 0)\n",
    "\n",
    "    # Formats as coordinates\n",
    "    journey['Coordinates'] = list(zip(journey.Latitude, journey.Longitude)) \n",
    "\n",
    "    "
   ]
  },
  {
   "cell_type": "code",
   "execution_count": 920,
   "metadata": {},
   "outputs": [
    {
     "data": {
      "text/html": [
       "<div>\n",
       "<style scoped>\n",
       "    .dataframe tbody tr th:only-of-type {\n",
       "        vertical-align: middle;\n",
       "    }\n",
       "\n",
       "    .dataframe tbody tr th {\n",
       "        vertical-align: top;\n",
       "    }\n",
       "\n",
       "    .dataframe thead th {\n",
       "        text-align: right;\n",
       "    }\n",
       "</style>\n",
       "<table border=\"1\" class=\"dataframe\">\n",
       "  <thead>\n",
       "    <tr style=\"text-align: right;\">\n",
       "      <th></th>\n",
       "      <th>Date</th>\n",
       "      <th>Time</th>\n",
       "      <th>Latitude</th>\n",
       "      <th>Longitude</th>\n",
       "      <th>Altitude</th>\n",
       "      <th>Speed</th>\n",
       "      <th>DateTime</th>\n",
       "      <th>Velocity</th>\n",
       "      <th>Coordinates</th>\n",
       "    </tr>\n",
       "  </thead>\n",
       "  <tbody>\n",
       "    <tr>\n",
       "      <th>0</th>\n",
       "      <td>12/04/2022</td>\n",
       "      <td>07:20:20</td>\n",
       "      <td>-33.89134</td>\n",
       "      <td>18.95951</td>\n",
       "      <td>235.9</td>\n",
       "      <td>1.09</td>\n",
       "      <td>2022-12-04 07:20:20</td>\n",
       "      <td>0.302778</td>\n",
       "      <td>(-33.89134, 18.95951)</td>\n",
       "    </tr>\n",
       "  </tbody>\n",
       "</table>\n",
       "</div>"
      ],
      "text/plain": [
       "         Date      Time  Latitude  Longitude  Altitude  Speed  \\\n",
       "0  12/04/2022  07:20:20 -33.89134   18.95951     235.9   1.09   \n",
       "\n",
       "             DateTime  Velocity            Coordinates  \n",
       "0 2022-12-04 07:20:20  0.302778  (-33.89134, 18.95951)  "
      ]
     },
     "execution_count": 920,
     "metadata": {},
     "output_type": "execute_result"
    }
   ],
   "source": [
    "clean_data()\n",
    "journey.head(1)"
   ]
  },
  {
   "cell_type": "markdown",
   "metadata": {},
   "source": [
    "### Slope"
   ]
  },
  {
   "cell_type": "code",
   "execution_count": 921,
   "metadata": {},
   "outputs": [],
   "source": [
    "''' \n",
    "Inputs: dataframe with vehicle journey data\n",
    "\n",
    "Calculates distance between each successive pair of lat/lon coordinates\n",
    "(accounts for elevation difference)\n",
    "\n",
    "Calculates slope angle faced by vehicle at each timestamp\n",
    "\n",
    "'''\n",
    "def getDistSlope():\n",
    "    Distance = np.zeros(len(journey))\n",
    "    Slope = np.zeros(len(journey))\n",
    "    l_route = journey.shape[0]\n",
    "\n",
    "    for i in range(0,l_route-1): \n",
    "      #  elev_change = journey['ElevChange'][i]\n",
    "        elev_change = journey['Altitude'][i + 1] - journey['Altitude'][i]\n",
    "        if abs(elev_change) < 0.2:\n",
    "            elev_change = 0\n",
    "        \n",
    "        dist_lateral = geopy.distance.geodesic(journey.Coordinates.iloc[i],  # (m) Lateral distance between two lat/lon coord pairs\n",
    "                                       journey.Coordinates.iloc[i+1]).m\n",
    "        dist_3d = np.sqrt(dist_lateral**2 + elev_change**2)  # (m) 3D Distance using pythogoras to account for elevation change\n",
    "        if i == 0:\n",
    "            Distance[i] = 0\n",
    "        else:\n",
    "            Distance[i] = dist_3d\n",
    "        if Distance[i] != 0 and elev_change != 0:\n",
    "            Slope[i] = np.arcsin(elev_change/dist_3d)\n",
    "    journey['Displacement_m'] = list(Distance) # Used for computing kWh/km \n",
    "    journey['slope_rad'] = list(Slope) "
   ]
  },
  {
   "cell_type": "code",
   "execution_count": 922,
   "metadata": {},
   "outputs": [
    {
     "data": {
      "text/html": [
       "<div>\n",
       "<style scoped>\n",
       "    .dataframe tbody tr th:only-of-type {\n",
       "        vertical-align: middle;\n",
       "    }\n",
       "\n",
       "    .dataframe tbody tr th {\n",
       "        vertical-align: top;\n",
       "    }\n",
       "\n",
       "    .dataframe thead th {\n",
       "        text-align: right;\n",
       "    }\n",
       "</style>\n",
       "<table border=\"1\" class=\"dataframe\">\n",
       "  <thead>\n",
       "    <tr style=\"text-align: right;\">\n",
       "      <th></th>\n",
       "      <th>Date</th>\n",
       "      <th>Time</th>\n",
       "      <th>Latitude</th>\n",
       "      <th>Longitude</th>\n",
       "      <th>Altitude</th>\n",
       "      <th>Speed</th>\n",
       "      <th>DateTime</th>\n",
       "      <th>Velocity</th>\n",
       "      <th>Coordinates</th>\n",
       "      <th>Displacement_m</th>\n",
       "      <th>slope_rad</th>\n",
       "    </tr>\n",
       "  </thead>\n",
       "  <tbody>\n",
       "    <tr>\n",
       "      <th>0</th>\n",
       "      <td>12/04/2022</td>\n",
       "      <td>07:20:20</td>\n",
       "      <td>-33.89134</td>\n",
       "      <td>18.95951</td>\n",
       "      <td>235.9</td>\n",
       "      <td>1.09</td>\n",
       "      <td>2022-12-04 07:20:20</td>\n",
       "      <td>0.302778</td>\n",
       "      <td>(-33.89134, 18.95951)</td>\n",
       "      <td>0.0</td>\n",
       "      <td>0.0</td>\n",
       "    </tr>\n",
       "  </tbody>\n",
       "</table>\n",
       "</div>"
      ],
      "text/plain": [
       "         Date      Time  Latitude  Longitude  Altitude  Speed  \\\n",
       "0  12/04/2022  07:20:20 -33.89134   18.95951     235.9   1.09   \n",
       "\n",
       "             DateTime  Velocity            Coordinates  Displacement_m  \\\n",
       "0 2022-12-04 07:20:20  0.302778  (-33.89134, 18.95951)             0.0   \n",
       "\n",
       "   slope_rad  \n",
       "0        0.0  "
      ]
     },
     "execution_count": 922,
     "metadata": {},
     "output_type": "execute_result"
    }
   ],
   "source": [
    "getDistSlope()\n",
    "journey.head(1)"
   ]
  },
  {
   "cell_type": "markdown",
   "metadata": {},
   "source": [
    "### Format data and identify features required for kinetic model\n",
    "\n",
    "• Calculate Change in Elevation</br>\n",
    "• Calculate Change in Time</br>\n",
    "• Calculate Change in Velocity </br>\n",
    "• Calculate Change in Acceleration </br>"
   ]
  },
  {
   "cell_type": "code",
   "execution_count": 923,
   "metadata": {},
   "outputs": [],
   "source": [
    "def format_data():\n",
    "\n",
    "    # Change in Time\n",
    "    journey['DeltaT'] = journey['DateTime'].shift(-1) - journey['DateTime']\n",
    "    journey.DeltaT = journey['DeltaT']/ np.timedelta64(1, 's') # Convert from timedelta to float\n",
    "\n",
    "    # Change in Elevation\n",
    "    journey['ElevChange'] = np.where(abs(journey['Altitude'].shift(-1) - journey['Altitude']) >= 0.2, journey['Altitude'].shift(-1) - journey['Altitude'], 0)\n",
    "\n",
    "    # Change in Velocity\n",
    "    journey['DeltaV'] = journey['Velocity'].shift(-1) - journey['Velocity']\n",
    "    \n",
    "    # Change in Acceleration\n",
    "    journey['Acceleration'] = np.where(journey['DeltaT'] > 0, journey['DeltaV']/journey['DeltaT'], 0)"
   ]
  },
  {
   "cell_type": "code",
   "execution_count": 924,
   "metadata": {},
   "outputs": [
    {
     "data": {
      "text/html": [
       "<div>\n",
       "<style scoped>\n",
       "    .dataframe tbody tr th:only-of-type {\n",
       "        vertical-align: middle;\n",
       "    }\n",
       "\n",
       "    .dataframe tbody tr th {\n",
       "        vertical-align: top;\n",
       "    }\n",
       "\n",
       "    .dataframe thead th {\n",
       "        text-align: right;\n",
       "    }\n",
       "</style>\n",
       "<table border=\"1\" class=\"dataframe\">\n",
       "  <thead>\n",
       "    <tr style=\"text-align: right;\">\n",
       "      <th></th>\n",
       "      <th>Date</th>\n",
       "      <th>Time</th>\n",
       "      <th>Latitude</th>\n",
       "      <th>Longitude</th>\n",
       "      <th>Altitude</th>\n",
       "      <th>Speed</th>\n",
       "      <th>DateTime</th>\n",
       "      <th>Velocity</th>\n",
       "      <th>Coordinates</th>\n",
       "      <th>Displacement_m</th>\n",
       "      <th>slope_rad</th>\n",
       "      <th>DeltaT</th>\n",
       "      <th>ElevChange</th>\n",
       "      <th>DeltaV</th>\n",
       "      <th>Acceleration</th>\n",
       "    </tr>\n",
       "  </thead>\n",
       "  <tbody>\n",
       "    <tr>\n",
       "      <th>0</th>\n",
       "      <td>12/04/2022</td>\n",
       "      <td>07:20:20</td>\n",
       "      <td>-33.89134</td>\n",
       "      <td>18.95951</td>\n",
       "      <td>235.9</td>\n",
       "      <td>1.09</td>\n",
       "      <td>2022-12-04 07:20:20</td>\n",
       "      <td>0.302778</td>\n",
       "      <td>(-33.89134, 18.95951)</td>\n",
       "      <td>0.0</td>\n",
       "      <td>0.0</td>\n",
       "      <td>2.0</td>\n",
       "      <td>0.0</td>\n",
       "      <td>0.0</td>\n",
       "      <td>0.0</td>\n",
       "    </tr>\n",
       "  </tbody>\n",
       "</table>\n",
       "</div>"
      ],
      "text/plain": [
       "         Date      Time  Latitude  Longitude  Altitude  Speed  \\\n",
       "0  12/04/2022  07:20:20 -33.89134   18.95951     235.9   1.09   \n",
       "\n",
       "             DateTime  Velocity            Coordinates  Displacement_m  \\\n",
       "0 2022-12-04 07:20:20  0.302778  (-33.89134, 18.95951)             0.0   \n",
       "\n",
       "   slope_rad  DeltaT  ElevChange  DeltaV  Acceleration  \n",
       "0        0.0     2.0         0.0     0.0           0.0  "
      ]
     },
     "execution_count": 924,
     "metadata": {},
     "output_type": "execute_result"
    }
   ],
   "source": [
    "format_data()\n",
    "journey.head(1)"
   ]
  },
  {
   "cell_type": "markdown",
   "metadata": {},
   "source": [
    "### Environment Forces\n",
    "• Aerodynamic Drag F_AD </br>\n",
    "• Slope Derag F_RS or F_SD </br>\n",
    "• Rolling Resstance F_RR"
   ]
  },
  {
   "cell_type": "code",
   "execution_count": 925,
   "metadata": {},
   "outputs": [],
   "source": [
    "# Frictional force impeding the motion of a tire rolling on a surface\n",
    "# F_RR = c_rr * F_N\n",
    "\n",
    "def rolling_resistance(mass, c_rr, slope, velocity):\n",
    "    rr = 0\n",
    "    if velocity > 0.3:\n",
    "        f_normal = - (mass * GRAVITY * np.cos(slope))\n",
    "        rr = c_rr * f_normal\n",
    "    return rr"
   ]
  },
  {
   "cell_type": "code",
   "execution_count": 926,
   "metadata": {},
   "outputs": [],
   "source": [
    "# Frictional force due to the surrounding air\n",
    "# F_AD = c_d * rho*v^2 * 1/2*A\n",
    "# rho = P/(R*T)\n",
    "\n",
    "def aerodynamic_drag(c_d, velocity, surface_area, rho):\n",
    "    ad =  c_d * rho * velocity**2 * 0.5\n",
    "    return -ad\n"
   ]
  },
  {
   "cell_type": "code",
   "execution_count": 927,
   "metadata": {},
   "outputs": [],
   "source": [
    "# pressure in hPa & temperature in celsius\n",
    "def air_density(pressure, temperature):\n",
    "    temperature += KELVIN\n",
    "    pressure *= 100\n",
    "    rho = pressure / (temperature * R)\n",
    "    return rho"
   ]
  },
  {
   "cell_type": "code",
   "execution_count": 928,
   "metadata": {},
   "outputs": [],
   "source": [
    "# Positive or negative force due to the slope (component of vehicle weight due to the slope)\n",
    "\n",
    "def slope_drag(mass, slope):\n",
    "    sd = mass * GRAVITY * np.sin(slope)\n",
    "    return -sd"
   ]
  },
  {
   "cell_type": "code",
   "execution_count": 929,
   "metadata": {},
   "outputs": [
    {
     "name": "stdout",
     "output_type": "stream",
     "text": [
      "Using Average Pressure and temperature:  1.1839251532625141\n",
      "Using 1000hPa and 0C 1.1124744176078223\n"
     ]
    }
   ],
   "source": [
    "print(\"Using Average Pressure and temperature: \", air_density(1013.25, 25))\n",
    "print(\"Using 1000hPa and 0C\", air_density(1000, 40))"
   ]
  },
  {
   "cell_type": "markdown",
   "metadata": {},
   "source": [
    "## Trip"
   ]
  },
  {
   "cell_type": "code",
   "execution_count": 930,
   "metadata": {},
   "outputs": [],
   "source": [
    "class Drivecycle: \n",
    "    \"\"\"\n",
    "    Inputs: dataframe with journey info\n",
    "    \"\"\"\n",
    "    def __init__(self, journey): \n",
    "        self.displacement = journey.Displacement_m # m\n",
    "        self.velocity = journey.Velocity # m/s\n",
    "        self.acceleration = journey.Acceleration #m/s^2\n",
    "        self.slope = journey.slope_rad # rad\n",
    "        self.dt = journey.DeltaT # Time elapsed between each timestamp\n",
    "        self.dv = journey.DeltaV\n",
    "        \n",
    "        "
   ]
  },
  {
   "cell_type": "markdown",
   "metadata": {},
   "source": [
    "## Vehicle"
   ]
  },
  {
   "cell_type": "markdown",
   "metadata": {},
   "source": [
    "ErP = Propulsion Energy</br>\n",
    "ErB = REgenerative Breaking"
   ]
  },
  {
   "cell_type": "code",
   "execution_count": 931,
   "metadata": {},
   "outputs": [],
   "source": [
    "class Vehicle:\n",
    "    \"\"\"\n",
    "    Inputs: Physical parameters of vehicle for modeling energy consumption\n",
    "    Returns an array of vehicle energy consumption at each timestamp\n",
    "    \n",
    "    Default assumptions from \"A bumpy ride to electrification\":\n",
    "    mass = 3900 kg\n",
    "    cd = 0.36\n",
    "    crr = 0.02\n",
    "    A = 4 m^2\n",
    "    eff = 0.90\n",
    "    rgbeff = 0.65 # breaking Efficiency\n",
    "    p0 = 100 W\n",
    "    \"\"\"\n",
    "    \n",
    "    def __init__(self, mass = 3900, cd = 0.36, crr = 0.02, A = 4,\n",
    "                 eff = 0.2, rgbeff = 0.65, p0 = 100):\n",
    "\n",
    "        # Vehicle physical parameters\n",
    "        self.mass = mass # (kg) Total vehicle weight including payload\n",
    "        self.crr = crr # Rolling resistance coeff\n",
    "        self.cd = cd  # Air drag coeff\n",
    "        self.A = A # (m^2) Approximation of vehicle frontal area \n",
    "        self.eff = eff # Powertrain efficiency\n",
    "        self.rgbeff = rgbeff # Recuperative braking efficiency\n",
    "        self.p0 = p0 # (W) Constant power loss (to power auxiliary vehicle systems)\n",
    "\n",
    "        \n",
    "    # Computes energy expenditure from a Drivecycle object\n",
    "    def getEnergyExpenditure(self,cycle):\n",
    "\n",
    "        v = cycle.velocity # (m/s) \n",
    "        s = cycle.slope # (rad)\n",
    "        a = cycle.acceleration # (m/s^2)\n",
    "        dt = cycle.dt # (s)\n",
    "        d = cycle.displacement # (m)\n",
    "        dv = cycle.dv # (m/s)\n",
    "            \n",
    "            \n",
    "        Er = [] # Total energy consumption (J), from battery if positive, to battery if negative (RGbrake)\n",
    "\n",
    "        \n",
    "                \n",
    "        for slope,vel,acc,delta_t, delta_v in zip(s,v,a,dt,dv):\n",
    "            \n",
    "            force, frr, fad, fsd = 0,0,0,0\n",
    "            \n",
    "            if vel != 0: #No drag if velocity = 0\n",
    "                frr = rolling_resistance(self.mass,self.crr, slope, vel) # (N)\n",
    "                fad = aerodynamic_drag(self.cd, vel, self.A, RHO_CONST) # (N)\n",
    "                fsd = slope_drag(self.mass, slope) # (N)\n",
    "                \n",
    "            force = frr + fad + fsd # (N)\n",
    "            \n",
    "            exp_speed_delta = force * delta_t / self.mass # (N-s/kg)\n",
    "            \n",
    "            unexp_speed_delta = delta_v - exp_speed_delta # (m/s)\n",
    "            \n",
    "            try:\n",
    "                prop_brake_force = self.mass * unexp_speed_delta / delta_t # (kg * m/s)/(s) = (N)\n",
    "            \n",
    "                kinetic_power = prop_brake_force * vel # (N)*(m/s) = (W)\n",
    "                \n",
    "                propultion_work = kinetic_power * delta_t  # (W)*(s) = (J) \n",
    "                \n",
    "            except ZeroDivisionError:\n",
    "                prop_brake_force = 0\n",
    "                kinetic_power = 0\n",
    "                propultion_work = 0\n",
    "\n",
    "            Er.append(propultion_work) # (J)\n",
    "\n",
    "        ErP = [0.0]*len(Er)\n",
    "        ErB = [0.0]*len(Er)\n",
    "\n",
    "        for i in range(len(Er)):            \n",
    "            if Er[i] > 0: # Propulsion Energy \n",
    "                ErP[i] = Er[i]/self.eff # (J)\n",
    "                \n",
    "            elif Er[i] < 0: # Recuperated Energy (from regen braking system)\n",
    "                ErB[i]= Er[i]*self.rgbeff # (J)\n",
    "    \n",
    "    \n",
    "    \n",
    "        return ErP,ErB "
   ]
  },
  {
   "cell_type": "code",
   "execution_count": 932,
   "metadata": {},
   "outputs": [],
   "source": [
    "def total_mass(curb, load):\n",
    "    return curb + load"
   ]
  },
  {
   "cell_type": "code",
   "execution_count": 933,
   "metadata": {},
   "outputs": [
    {
     "data": {
      "text/html": [
       "<div>\n",
       "<style scoped>\n",
       "    .dataframe tbody tr th:only-of-type {\n",
       "        vertical-align: middle;\n",
       "    }\n",
       "\n",
       "    .dataframe tbody tr th {\n",
       "        vertical-align: top;\n",
       "    }\n",
       "\n",
       "    .dataframe thead th {\n",
       "        text-align: right;\n",
       "    }\n",
       "</style>\n",
       "<table border=\"1\" class=\"dataframe\">\n",
       "  <thead>\n",
       "    <tr style=\"text-align: right;\">\n",
       "      <th></th>\n",
       "      <th>Date</th>\n",
       "      <th>Time</th>\n",
       "      <th>Latitude</th>\n",
       "      <th>Longitude</th>\n",
       "      <th>Altitude</th>\n",
       "      <th>Speed</th>\n",
       "      <th>DateTime</th>\n",
       "      <th>Velocity</th>\n",
       "      <th>Coordinates</th>\n",
       "      <th>Displacement_m</th>\n",
       "      <th>slope_rad</th>\n",
       "      <th>DeltaT</th>\n",
       "      <th>ElevChange</th>\n",
       "      <th>DeltaV</th>\n",
       "      <th>Acceleration</th>\n",
       "    </tr>\n",
       "  </thead>\n",
       "  <tbody>\n",
       "    <tr>\n",
       "      <th>0</th>\n",
       "      <td>12/04/2022</td>\n",
       "      <td>07:20:20</td>\n",
       "      <td>-33.89134</td>\n",
       "      <td>18.95951</td>\n",
       "      <td>235.9</td>\n",
       "      <td>1.09</td>\n",
       "      <td>2022-12-04 07:20:20</td>\n",
       "      <td>0.302778</td>\n",
       "      <td>(-33.89134, 18.95951)</td>\n",
       "      <td>0.0</td>\n",
       "      <td>0.0</td>\n",
       "      <td>2.0</td>\n",
       "      <td>0.0</td>\n",
       "      <td>0.0</td>\n",
       "      <td>0.0</td>\n",
       "    </tr>\n",
       "  </tbody>\n",
       "</table>\n",
       "</div>"
      ],
      "text/plain": [
       "         Date      Time  Latitude  Longitude  Altitude  Speed  \\\n",
       "0  12/04/2022  07:20:20 -33.89134   18.95951     235.9   1.09   \n",
       "\n",
       "             DateTime  Velocity            Coordinates  Displacement_m  \\\n",
       "0 2022-12-04 07:20:20  0.302778  (-33.89134, 18.95951)             0.0   \n",
       "\n",
       "   slope_rad  DeltaT  ElevChange  DeltaV  Acceleration  \n",
       "0        0.0     2.0         0.0     0.0           0.0  "
      ]
     },
     "execution_count": 933,
     "metadata": {},
     "output_type": "execute_result"
    }
   ],
   "source": [
    "journey.head(1)"
   ]
  },
  {
   "cell_type": "markdown",
   "metadata": {},
   "source": [
    "## Implementation"
   ]
  },
  {
   "cell_type": "code",
   "execution_count": 934,
   "metadata": {},
   "outputs": [],
   "source": [
    "minibus = Vehicle(mass = total_mass(mass,800), cd = cd, crr = C_RR_CAR, A = area,\n",
    "                 eff = PE_DIESEL, rgbeff = RGN_NGV, p0 = P0)"
   ]
  },
  {
   "cell_type": "code",
   "execution_count": 935,
   "metadata": {},
   "outputs": [],
   "source": [
    "drvcycle = Drivecycle(journey)"
   ]
  },
  {
   "cell_type": "code",
   "execution_count": 936,
   "metadata": {},
   "outputs": [],
   "source": [
    "p0 = P0\n",
    "\n",
    "journey['Propultion Work (J)'],journey['Braking Work (J)'] = minibus.getEnergyExpenditure(drvcycle)\n",
    "journey['Offload Work (J)'] = journey['DeltaT'] * p0 # (J)\n",
    "\n",
    "journey['Energy Consumption (kWh)'] = (journey['Propultion Work (J)'] + journey['Braking Work (J)'] + journey['Offload Work (J)'])/3.6e6 # (kWh)                \n",
    "                \n",
    "#Rename columns for clarity\n",
    "journey['Displacement (m)'] = journey['Displacement_m']\n",
    "journey['Slope Angle (rad)'] = journey['slope_rad']"
   ]
  },
  {
   "cell_type": "code",
   "execution_count": 937,
   "metadata": {},
   "outputs": [],
   "source": [
    "ERp, ERb = minibus.getEnergyExpenditure(drvcycle)"
   ]
  },
  {
   "cell_type": "code",
   "execution_count": 938,
   "metadata": {},
   "outputs": [
    {
     "name": "stdout",
     "output_type": "stream",
     "text": [
      "19.85165470391748 kWh\n",
      "15.419161469694181 km\n",
      "1.2874665553593954 kWh/km\n"
     ]
    }
   ],
   "source": [
    "total_kwh = journey['Energy Consumption (kWh)'].sum()\n",
    "\n",
    "print(total_kwh, 'kWh')\n",
    "\n",
    "total_dist = journey['Displacement (m)'].sum()/1000\n",
    "print(total_dist, 'km')\n",
    "\n",
    "kwh_km = total_kwh/total_dist\n",
    "print(kwh_km, 'kWh/km')"
   ]
  },
  {
   "cell_type": "markdown",
   "metadata": {},
   "source": [
    "# Fuel Consumption Model"
   ]
  },
  {
   "cell_type": "code",
   "execution_count": 939,
   "metadata": {},
   "outputs": [],
   "source": [
    "# Return crub mass, c_d and frontal area from make and model of a vehicle\n",
    "def get_epa(make, model):\n",
    "    vehicle_params = pd.read_csv('vehicles.csv')\n",
    "    try:\n",
    "        fe_city_p = vehicle_params.loc[(vehicle_params['make'] == make) & (vehicle_params['model'] == model), 'city08'].iloc[0]\n",
    "        fe_hwy_p = vehicle_params.loc[(vehicle_params['make'] == make) & (vehicle_params['model'] == model), 'highway08'].iloc[0]\n",
    "    except:\n",
    "        print('Error: Vehicle not found')\n",
    "        return -1, -1\n",
    "    \n",
    "    return fe_city_p, fe_hwy_p"
   ]
  },
  {
   "cell_type": "markdown",
   "metadata": {},
   "source": [
    "### Constants"
   ]
  },
  {
   "cell_type": "code",
   "execution_count": 940,
   "metadata": {},
   "outputs": [],
   "source": [
    "# Following are general averages\n",
    "\n",
    "# Density\n",
    "density_p = 0.75 #kg/litre\n",
    "density_d = 0.85 #kg/litre\n",
    "\n",
    "# Air fuel ratio\n",
    "afr_p = 14.7 #1:14.7 Air\n",
    "afr_d = 18 #14.5 #1:14.5 Air * Varies a large amount depending on speed\n",
    "\n",
    "# Fuel efficiency\n",
    "eff_p = 9.61 #kWh\n",
    "eff_d = 10.96 #kWh\n",
    "\n",
    "# CO2 Emissions\n",
    "emis_p = 2.30531 #kg of CO2\n",
    "emis_d = 2.68779 #kg of CO2\n",
    "\n",
    "\n",
    "C_C = 97956215.04 # Conversion constant\n",
    "V_F = 0.85 # volumetric efficiency of standar engine\n",
    "\n",
    "\n"
   ]
  },
  {
   "cell_type": "code",
   "execution_count": 941,
   "metadata": {},
   "outputs": [],
   "source": [
    "def get_air_intake(d, w):\n",
    "    air_intake = (w*d*V_F)/(C_C)\n",
    "    return air_intake"
   ]
  },
  {
   "cell_type": "markdown",
   "metadata": {},
   "source": [
    "For actual implementation, Vehicle engine speed and/or MAF will be avialable at each time step so a calcualtion will be done for each instance of time. Instead of the single calculation done here"
   ]
  },
  {
   "cell_type": "code",
   "execution_count": 942,
   "metadata": {},
   "outputs": [],
   "source": [
    "def get_fuel_flow_rate(air_intake, afr, fuel_type):\n",
    "    fuel_flow_rate = air_intake/afr\n",
    "    fuel_flow_rate *= fuel_type\n",
    "    return fuel_flow_rate"
   ]
  },
  {
   "cell_type": "code",
   "execution_count": 943,
   "metadata": {},
   "outputs": [],
   "source": [
    "fuel_flow_rate = get_fuel_flow_rate(get_air_intake(d, w_max), afr_d, density_d)"
   ]
  },
  {
   "cell_type": "code",
   "execution_count": 944,
   "metadata": {},
   "outputs": [
    {
     "name": "stdout",
     "output_type": "stream",
     "text": [
      "2.451920334584985 litres of fuel\n"
     ]
    }
   ],
   "source": [
    "total_seconds = journey['DeltaT'].sum()\n",
    "fuel_consumption = total_seconds* fuel_flow_rate\n",
    "print(fuel_consumption, 'litres of fuel')\n"
   ]
  },
  {
   "cell_type": "code",
   "execution_count": 945,
   "metadata": {},
   "outputs": [
    {
     "name": "stdout",
     "output_type": "stream",
     "text": [
      "6.288606221092435 km/l\n",
      "15.901774810544323 l/100km\n"
     ]
    }
   ],
   "source": [
    "km_l = total_dist/fuel_consumption\n",
    "print(km_l, 'km/l')\n",
    "l_100 = 100/km_l\n",
    "print(l_100, 'l/100km')"
   ]
  },
  {
   "cell_type": "code",
   "execution_count": 946,
   "metadata": {},
   "outputs": [
    {
     "name": "stdout",
     "output_type": "stream",
     "text": [
      "6.590246956094177 kg of CO2\n"
     ]
    }
   ],
   "source": [
    "emissions = fuel_consumption * emis_d\n",
    "print(emissions, 'kg of CO2')"
   ]
  }
 ],
 "metadata": {
  "kernelspec": {
   "display_name": "Python 3.10.4 64-bit",
   "language": "python",
   "name": "python3"
  },
  "language_info": {
   "codemirror_mode": {
    "name": "ipython",
    "version": 3
   },
   "file_extension": ".py",
   "mimetype": "text/x-python",
   "name": "python",
   "nbconvert_exporter": "python",
   "pygments_lexer": "ipython3",
   "version": "3.10.4"
  },
  "orig_nbformat": 4,
  "vscode": {
   "interpreter": {
    "hash": "eb1e2aa17c9c03522ea469ed025d74c8a00b3c7801d0496b408e209436a13f2e"
   }
  }
 },
 "nbformat": 4,
 "nbformat_minor": 2
}
